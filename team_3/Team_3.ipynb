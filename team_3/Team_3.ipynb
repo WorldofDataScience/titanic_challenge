{
 "cells": [
  {
   "cell_type": "code",
   "execution_count": 1,
   "metadata": {
    "collapsed": true
   },
   "outputs": [],
   "source": [
    "# import libraries\n",
    "import numpy as np\n",
    "import pandas as pd\n",
    "import seaborn as sns\n",
    "import matplotlib.pyplot as plt\n",
    "from sklearn.linear_model import LogisticRegression\n",
    "from sklearn.preprocessing import StandardScaler\n",
    "from sklearn.model_selection import train_test_split, GridSearchCV\n",
    "import sklearn.metrics as metrics\n",
    "from sklearn.tree import DecisionTreeClassifier\n",
    "from sklearn.ensemble import RandomForestClassifier, AdaBoostClassifier, ExtraTreesClassifier\n",
    "\n",
    "plt.style.use('fivethirtyeight')\n",
    "\n",
    "%config InlineBackend.figure_format = 'retina'\n",
    "%matplotlib inline"
   ]
  },
  {
   "cell_type": "code",
   "execution_count": 2,
   "metadata": {
    "collapsed": true
   },
   "outputs": [],
   "source": [
    "# import data\n",
    "titanic = pd.read_csv('http://collaboratescience.com/cheatsheets/titanic.csv')"
   ]
  },
  {
   "cell_type": "code",
   "execution_count": 3,
   "metadata": {
    "collapsed": true
   },
   "outputs": [],
   "source": [
    "# Drop body and cabin since more than 50% of the data is missing\n",
    "titanic.drop(['cabin', 'body'], axis = 1, inplace = True)"
   ]
  },
  {
   "cell_type": "code",
   "execution_count": 4,
   "metadata": {
    "collapsed": true
   },
   "outputs": [],
   "source": [
    "# Drop boat, home.dest and use complete case analysis to drop rows with missing data\n",
    "titanic.drop(['boat', 'home.dest'], axis = 1, inplace = True)\n",
    "titanic.dropna(inplace = True)"
   ]
  },
  {
   "cell_type": "code",
   "execution_count": 5,
   "metadata": {
    "collapsed": true
   },
   "outputs": [],
   "source": [
    "# Create a new column FamilyCount which is the sum of SibSp and Parch\n",
    "titanic[\"family_count\"] = titanic['sibsp'] + titanic['parch']"
   ]
  },
  {
   "cell_type": "code",
   "execution_count": 6,
   "metadata": {},
   "outputs": [
    {
     "name": "stderr",
     "output_type": "stream",
     "text": [
      "/Users/seanmcclure/anaconda3/lib/python3.6/site-packages/ipykernel_launcher.py:2: FutureWarning: currently extract(expand=None) means expand=False (return Index/Series/DataFrame) but in a future version of pandas this will be changed to expand=True (return DataFrame)\n",
      "  \n"
     ]
    }
   ],
   "source": [
    "# Create a title column using RegEx from the name\n",
    "title  =  titanic['name'].str.extract(r', ([^\\.]+)\\.')\n",
    "titanic['title'] = title"
   ]
  },
  {
   "cell_type": "code",
   "execution_count": 7,
   "metadata": {
    "collapsed": true
   },
   "outputs": [],
   "source": [
    "# Take the log of fare to make it more normally distributed \n",
    "titanic['fare'] = titanic['fare'].map(lambda x: np.log1p(x))"
   ]
  },
  {
   "cell_type": "code",
   "execution_count": 8,
   "metadata": {
    "collapsed": true
   },
   "outputs": [],
   "source": [
    "# One hot encode categorical values\n",
    "titanic = pd.get_dummies(titanic, columns = ['embarked', 'sex', 'title'], drop_first = True)"
   ]
  },
  {
   "cell_type": "code",
   "execution_count": 9,
   "metadata": {
    "collapsed": true
   },
   "outputs": [],
   "source": [
    "# Define features and target in train data\n",
    "X = titanic.drop(['name', 'ticket', 'survived'], axis = 1)\n",
    "y = titanic['survived']"
   ]
  },
  {
   "cell_type": "code",
   "execution_count": 10,
   "metadata": {
    "collapsed": true
   },
   "outputs": [],
   "source": [
    "# Standardize the predictors in X\n",
    "ss = StandardScaler()\n",
    "ss.fit(X) \n",
    "X_scaled = ss.transform(X)"
   ]
  },
  {
   "cell_type": "code",
   "execution_count": 11,
   "metadata": {
    "collapsed": true
   },
   "outputs": [],
   "source": [
    "# Train test split\n",
    "X_train, X_test, y_train, y_test = train_test_split(X_scaled, y , test_size = 0.3)"
   ]
  },
  {
   "cell_type": "code",
   "execution_count": 12,
   "metadata": {},
   "outputs": [
    {
     "data": {
      "text/plain": [
       "(0.8082191780821918, {'C': 2.782559402207126, 'penalty': 'l1'})"
      ]
     },
     "execution_count": 12,
     "metadata": {},
     "output_type": "execute_result"
    }
   ],
   "source": [
    "# Gridsearch on logistic regression model \n",
    "lr_params = {'penalty':['l1', 'l2'], \n",
    "             'C': np.logspace(-5, 2, 10)}\n",
    "gs = GridSearchCV(LogisticRegression(), param_grid = lr_params)\n",
    "gs.fit(X_train, y_train)\n",
    "\n",
    "# Results \n",
    "gs.best_score_, gs.best_params_"
   ]
  },
  {
   "cell_type": "code",
   "execution_count": 13,
   "metadata": {},
   "outputs": [
    {
     "data": {
      "text/plain": [
       "0.8115015974440895"
      ]
     },
     "execution_count": 13,
     "metadata": {},
     "output_type": "execute_result"
    }
   ],
   "source": [
    "# Gridsearch test accuracy score\n",
    "gs.score(X_test, y_test)"
   ]
  },
  {
   "cell_type": "code",
   "execution_count": 14,
   "metadata": {},
   "outputs": [
    {
     "data": {
      "text/plain": [
       "0.8487182751888633"
      ]
     },
     "execution_count": 14,
     "metadata": {},
     "output_type": "execute_result"
    }
   ],
   "source": [
    "# Evaluate gridsearched model with AUC-ROC score\n",
    "y_score = gs.predict_proba(X_test)[:,1]\n",
    "metrics.roc_auc_score(y_test, y_score)"
   ]
  },
  {
   "cell_type": "code",
   "execution_count": 15,
   "metadata": {},
   "outputs": [
    {
     "data": {
      "text/html": [
       "<div>\n",
       "<style>\n",
       "    .dataframe thead tr:only-child th {\n",
       "        text-align: right;\n",
       "    }\n",
       "\n",
       "    .dataframe thead th {\n",
       "        text-align: left;\n",
       "    }\n",
       "\n",
       "    .dataframe tbody tr th {\n",
       "        vertical-align: top;\n",
       "    }\n",
       "</style>\n",
       "<table border=\"1\" class=\"dataframe\">\n",
       "  <thead>\n",
       "    <tr style=\"text-align: right;\">\n",
       "      <th></th>\n",
       "      <th>coef</th>\n",
       "    </tr>\n",
       "  </thead>\n",
       "  <tbody>\n",
       "    <tr>\n",
       "      <th>title_Master</th>\n",
       "      <td>0.492839</td>\n",
       "    </tr>\n",
       "    <tr>\n",
       "      <th>title_Dr</th>\n",
       "      <td>0.217930</td>\n",
       "    </tr>\n",
       "    <tr>\n",
       "      <th>title_Mrs</th>\n",
       "      <td>0.214870</td>\n",
       "    </tr>\n",
       "    <tr>\n",
       "      <th>title_Sir</th>\n",
       "      <td>0.166776</td>\n",
       "    </tr>\n",
       "    <tr>\n",
       "      <th>title_the Countess</th>\n",
       "      <td>0.075845</td>\n",
       "    </tr>\n",
       "  </tbody>\n",
       "</table>\n",
       "</div>"
      ],
      "text/plain": [
       "                        coef\n",
       "title_Master        0.492839\n",
       "title_Dr            0.217930\n",
       "title_Mrs           0.214870\n",
       "title_Sir           0.166776\n",
       "title_the Countess  0.075845"
      ]
     },
     "execution_count": 15,
     "metadata": {},
     "output_type": "execute_result"
    }
   ],
   "source": [
    "# Determine top predictors in model \n",
    "coefs = pd.DataFrame(gs.best_estimator_.coef_[0], index = X.columns, columns = ['coef'])\n",
    "coefs.sort_values(by='coef', ascending = False, inplace=True)\n",
    "coefs.head()"
   ]
  },
  {
   "cell_type": "code",
   "execution_count": 16,
   "metadata": {},
   "outputs": [
    {
     "data": {
      "image/png": "[encoded data removed]",
      "text/plain": [
       "<matplotlib.figure.Figure at 0x10ee37550>"
      ]
     },
     "metadata": {
      "image/png": {
       "height": 280,
       "width": 400
      }
     },
     "output_type": "display_data"
    }
   ],
   "source": [
    "# Create a heatmap confusion matrix - get predictions \n",
    "predictions = gs.predict(X_test)\n",
    "\n",
    "# Create confusion matrix \n",
    "classes = [\"Died\", 'Survived']\n",
    "cm = metrics.confusion_matrix(y_test, predictions)\n",
    "cm = pd.DataFrame(cm, columns=classes)\n",
    "cm.index = classes\n",
    "\n",
    "# Plot matrix on heatmap \n",
    "sns.heatmap(cm, annot=True, fmt='g')\n",
    "plt.xlabel(\"Predicted\")\n",
    "plt.ylabel(\"Actual\")\n",
    "plt.title('Tuned Logistic Regression Confusion Matrix');"
   ]
  },
  {
   "cell_type": "code",
   "execution_count": 17,
   "metadata": {},
   "outputs": [
    {
     "data": {
      "image/png": "[encoded data removed]",
      "text/plain": [
       "<matplotlib.figure.Figure at 0x10e5cb4a8>"
      ]
     },
     "metadata": {
      "image/png": {
       "height": 335,
       "width": 364
      }
     },
     "output_type": "display_data"
    }
   ],
   "source": [
    "# ROC Plot \n",
    "y_probs = gs.predict_proba(X_test)[:, 1]\n",
    "fpr, tpr, threshold = metrics.roc_curve(y_test, y_probs)\n",
    "\n",
    "fig = plt.figure(figsize = (5,5))\n",
    "plt.plot(fpr, tpr)\n",
    "\n",
    "# Labels\n",
    "plt.xlabel('Specificity')\n",
    "plt.ylabel('Sensitivity')\n",
    "plt.title('ROC curve');"
   ]
  },
  {
   "cell_type": "code",
   "execution_count": null,
   "metadata": {
    "collapsed": true
   },
   "outputs": [],
   "source": []
  }
 ],
 "metadata": {
  "kernelspec": {
   "display_name": "Python 3",
   "language": "python",
   "name": "python3"
  },
  "language_info": {
   "codemirror_mode": {
    "name": "ipython",
    "version": 3
   },
   "file_extension": ".py",
   "mimetype": "text/x-python",
   "name": "python",
   "nbconvert_exporter": "python",
   "pygments_lexer": "ipython3",
   "version": "3.6.1"
  }
 },
 "nbformat": 4,
 "nbformat_minor": 2
}
